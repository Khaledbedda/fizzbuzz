{
 "metadata": {
  "language_info": {
   "codemirror_mode": {
    "name": "ipython",
    "version": 3
   },
   "file_extension": ".py",
   "mimetype": "text/x-python",
   "name": "python",
   "nbconvert_exporter": "python",
   "pygments_lexer": "ipython3",
   "version": "3.9.0-final"
  },
  "orig_nbformat": 2,
  "kernelspec": {
   "name": "python3",
   "display_name": "Python 3.9.0 64-bit",
   "metadata": {
    "interpreter": {
     "hash": "63fd5069d213b44bf678585dea6b12cceca9941eaf7f819626cde1f2670de90d"
    }
   }
  }
 },
 "nbformat": 4,
 "nbformat_minor": 2,
 "cells": [
  {
   "source": [
    "### To create container and start it, run this command: \n",
    "- ./run_docker.sh\n",
    "\n",
    "The app will listen at **localhost:8000**\n",
    "\n",
    "### The used model is t5-small \n",
    "- This model translates from English to three languaes: German, French, Romanian. \n",
    "- Why this model? I found the idea of getting the text translated will be good for demonsteration."
   ],
   "cell_type": "markdown",
   "metadata": {}
  },
  {
   "cell_type": "code",
   "execution_count": 1,
   "metadata": {},
   "outputs": [],
   "source": [
    "import requests\n",
    "inputs = \"The man is kind\""
   ]
  },
  {
   "cell_type": "code",
   "execution_count": 3,
   "metadata": {},
   "outputs": [
    {
     "output_type": "stream",
     "name": "stdout",
     "text": [
      "{'Translation': 'Der Mann ist freundlich'}\n"
     ]
    }
   ],
   "source": [
    "language = \"German\"\n",
    "response = requests.post(\"http://localhost:8000///translate/\"+language+\"/\"+inputs)\n",
    "print( response.json() )"
   ]
  },
  {
   "cell_type": "code",
   "execution_count": 4,
   "metadata": {},
   "outputs": [
    {
     "output_type": "stream",
     "name": "stdout",
     "text": [
      "{'Translation': \"L'homme est aimable\"}\n"
     ]
    }
   ],
   "source": [
    "language = \"French\"\n",
    "response = requests.post(\"http://localhost:8000///translate/\"+language+\"/\"+inputs)\n",
    "print( response.json() )"
   ]
  },
  {
   "cell_type": "code",
   "execution_count": 5,
   "metadata": {},
   "outputs": [
    {
     "output_type": "stream",
     "name": "stdout",
     "text": [
      "{'Translation': 'Omul este amabil'}\n"
     ]
    }
   ],
   "source": [
    "language = \"Romanian\"\n",
    "response = requests.post(\"http://localhost:8000///translate/\"+language+\"/\"+inputs)\n",
    "print( response.json() )"
   ]
  },
  {
   "source": [],
   "cell_type": "markdown",
   "metadata": {}
  }
 ]
}